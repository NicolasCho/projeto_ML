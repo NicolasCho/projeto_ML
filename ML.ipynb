{
 "cells": [
  {
   "cell_type": "markdown",
   "id": "37d5ff6a-145d-4387-8398-0c8f276b851c",
   "metadata": {},
   "source": [
    "# Projeto Final de Machine Learning"
   ]
  },
  {
   "cell_type": "markdown",
   "id": "c99a865d-04ac-4049-b863-062f05f9726e",
   "metadata": {},
   "source": [
    "<strong>Membros:</strong>\n",
    "- João Laet\n",
    "- Nicolas Cho\n",
    "- Roger Pina\n",
    "\n",
    "<strong>Professor:</strong>\n",
    "- Fábio Ayres\n",
    "\n",
    "<strong>Github:</strong>\n",
    "- https://github.com/NicolasCho/projeto_ML\n",
    "\n",
    "<strong>Dataset:</strong>\n",
    "- https://www.kaggle.com/competitions/mens-machine-learning-competition-2018/data"
   ]
  },
  {
   "cell_type": "markdown",
   "id": "a7b3f8bd",
   "metadata": {},
   "source": [
    "## Sumário\n",
    "\n",
    "* [1 - Introdução](#1)\n",
    "* [2 - Imports](#2)\n",
    "* [3 - Data Exploration](#3)\n",
    "* [4 - Feature Engineering](#4)\n",
    "* [5 - Data Visualization](#5)\n",
    "* [6 - Models](#6)\n",
    "* [7 - Resultados](#7)\n",
    "* [8 - Conclusão](#8)"
   ]
  },
  {
   "cell_type": "markdown",
   "id": "4c2a22e5",
   "metadata": {},
   "source": [
    "<a name=\"1\"></a>\n",
    "## 1 - Introdução"
   ]
  },
  {
   "cell_type": "markdown",
   "id": "1da53fa9",
   "metadata": {},
   "source": [
    "Projeto tem como objetivo o desenvolvimento de um modelo preditivo para prever o resultado de jogos da NCAA, liga universitária americana de basquete, dados os times participantes."
   ]
  },
  {
   "cell_type": "markdown",
   "id": "d7957d98",
   "metadata": {},
   "source": [
    "---"
   ]
  },
  {
   "cell_type": "markdown",
   "id": "e66d56c1-beee-4cdb-90aa-4b5ad0f99924",
   "metadata": {
    "jp-MarkdownHeadingCollapsed": true,
    "tags": []
   },
   "source": [
    "<a name=\"2\"></a>\n",
    "## 2 - Imports"
   ]
  },
  {
   "cell_type": "code",
   "execution_count": null,
   "id": "e466ccd2-1e97-47d0-8e16-a77d4d4e15b8",
   "metadata": {},
   "outputs": [],
   "source": [
    "import math\n",
    "import pandas as pd\n",
    "import numpy as np\n",
    "from sklearn.model_selection import train_test_split\n",
    "from sklearn.ensemble import RandomForestRegressor, RandomForestClassifier\n",
    "import os\n",
    "from sklearn.metrics import (mean_squared_error,\n",
    "                             confusion_matrix,  # ConfusionMatrixDisplay,\n",
    "                             roc_curve, roc_auc_score)\n",
    "from sklearn import tree\n",
    "from sklearn.metrics import roc_curve\n",
    "from sklearn.metrics import roc_auc_score\n",
    "from plotnine import *\n",
    "#from keras import tensorflow"
   ]
  },
  {
   "cell_type": "markdown",
   "id": "966cd5e3",
   "metadata": {},
   "source": [
    "---"
   ]
  },
  {
   "cell_type": "markdown",
   "id": "ba636d36-656e-4588-ba17-03d69ebfa0a8",
   "metadata": {
    "tags": []
   },
   "source": [
    "<a name=\"3\"></a>\n",
    "## 3 - Data Exploration"
   ]
  },
  {
   "cell_type": "markdown",
   "id": "23546909",
   "metadata": {},
   "source": [
    "Das tabelas disponíveis, foram selecionadas as que contém informações dos ID's e nomes de todos os times participantes além das que possuem os detalhes dos jogos que já ocorreram desde 1985."
   ]
  },
  {
   "cell_type": "markdown",
   "id": "dd0ed21e-7e41-48af-9e4e-00a0c25f67fe",
   "metadata": {},
   "source": [
    "### Data Section 1 - The basics"
   ]
  },
  {
   "cell_type": "code",
   "execution_count": null,
   "id": "b2ce5aad-ca58-4420-96dc-ccae51d8b5ba",
   "metadata": {},
   "outputs": [],
   "source": [
    "os.chdir(\"data/NCAA/\")"
   ]
  },
  {
   "cell_type": "code",
   "execution_count": null,
   "id": "60196be3",
   "metadata": {},
   "outputs": [],
   "source": [
    "df_teams = pd.read_csv(\"Teams.csv\")\n",
    "seasons = pd.read_csv(\"Seasons.csv\")\n",
    "NCAATourneySeeds = pd.read_csv(\"NCAATourneySeeds.csv\")\n",
    "RegularSeasonCompactResults = pd.read_csv(\"RegularSeasonCompactResults.csv\")\n",
    "NCAATourneyCompactResults = pd.read_csv(\"NCAATourneyCompactResults.csv\")\n",
    "SampleSubmissionStage1 = pd.read_csv(\"SampleSubmissionStage1.csv\")"
   ]
  },
  {
   "cell_type": "markdown",
   "id": "ad7b6d3b-1516-4ba9-b67e-07b1e945ed99",
   "metadata": {},
   "source": [
    "### Teams"
   ]
  },
  {
   "cell_type": "code",
   "execution_count": null,
   "id": "b5e3e3a1-bdf3-40f4-b5df-a85be4f5b634",
   "metadata": {},
   "outputs": [],
   "source": [
    "df_teams"
   ]
  },
  {
   "cell_type": "markdown",
   "id": "2520eb94-2800-4a68-b998-a7df14ae717c",
   "metadata": {},
   "source": [
    "### Seasons"
   ]
  },
  {
   "cell_type": "code",
   "execution_count": null,
   "id": "6583b62b-8ed2-4a88-86e1-e9b27f0d6ea2",
   "metadata": {},
   "outputs": [],
   "source": [
    "seasons"
   ]
  },
  {
   "cell_type": "markdown",
   "id": "f06a7367-2ce1-4fbc-a80e-acd40cbac00a",
   "metadata": {},
   "source": [
    "### Seeds"
   ]
  },
  {
   "cell_type": "code",
   "execution_count": null,
   "id": "94bb94cd-f7c5-4fd4-99f0-ca15865da7e5",
   "metadata": {},
   "outputs": [],
   "source": [
    "NCAATourneySeeds"
   ]
  },
  {
   "cell_type": "code",
   "execution_count": null,
   "id": "1a2132a3-5a15-472b-849d-3a57ac73bf92",
   "metadata": {},
   "outputs": [],
   "source": [
    "NCAATourneySeeds = NCAATourneySeeds[NCAATourneySeeds['Season'] < 2014]"
   ]
  },
  {
   "cell_type": "markdown",
   "id": "35df54ba-0b28-49bd-9c97-21776c484511",
   "metadata": {},
   "source": [
    "### RegularSeasonCompactResults"
   ]
  },
  {
   "cell_type": "code",
   "execution_count": null,
   "id": "16ce663a-2413-4e5d-89c7-5f592140116c",
   "metadata": {},
   "outputs": [],
   "source": [
    "RegularSeasonCompactResults"
   ]
  },
  {
   "cell_type": "code",
   "execution_count": null,
   "id": "9ee63f4f-4e53-4d13-9848-cc95b4735a07",
   "metadata": {},
   "outputs": [],
   "source": [
    "RegularSeasonCompactResults = RegularSeasonCompactResults[RegularSeasonCompactResults['Season'] < 2014]"
   ]
  },
  {
   "cell_type": "markdown",
   "id": "f95d22b4-359c-42d1-8b5e-bafe94ef5422",
   "metadata": {},
   "source": [
    "### NCAATourneyCompactResults"
   ]
  },
  {
   "cell_type": "code",
   "execution_count": null,
   "id": "dd4f2ffb-057b-4202-b632-51c4857c3597",
   "metadata": {},
   "outputs": [],
   "source": [
    "NCAATourneyCompactResults "
   ]
  },
  {
   "cell_type": "code",
   "execution_count": null,
   "id": "1022806f-057e-4ab1-ab3e-8a32dff9d856",
   "metadata": {},
   "outputs": [],
   "source": [
    "NCAATourneyCompactResults = NCAATourneyCompactResults[NCAATourneyCompactResults['Season'] < 2014]"
   ]
  },
  {
   "cell_type": "markdown",
   "id": "ffcfa426",
   "metadata": {},
   "source": [
    "Existem duas tabelas com os jogos, sendo elas:"
   ]
  },
  {
   "cell_type": "markdown",
   "id": "f90acf8c",
   "metadata": {},
   "source": [
    "<strong>1 - RegularSeason</strong>\n",
    "Campeonato antes da NCAA - 150K linhas de jogos (1985 - 2017)\n",
    "\n",
    "<strong>2 - NCAA Tourney</strong>\n",
    "2K linhas de jogos (1985 - 2017)"
   ]
  },
  {
   "cell_type": "markdown",
   "id": "14d92101-142d-4b06-a2ba-724b1381313a",
   "metadata": {},
   "source": [
    "### SampleSubmissionStage1"
   ]
  },
  {
   "cell_type": "code",
   "execution_count": null,
   "id": "63266a66-0a59-43d6-8002-1992175ad46e",
   "metadata": {},
   "outputs": [],
   "source": [
    "SampleSubmissionStage1"
   ]
  },
  {
   "cell_type": "code",
   "execution_count": null,
   "id": "67d8d60e-b7d1-42a3-b2a8-7926c2aee9c1",
   "metadata": {},
   "outputs": [],
   "source": [
    "#pbp2010 = pd.read_csv('./mens-machine-learning-competition-2018/PlayByPlay_2010/Events_2010.csv')"
   ]
  },
  {
   "cell_type": "markdown",
   "id": "aa45b7d7",
   "metadata": {},
   "source": [
    "---"
   ]
  },
  {
   "cell_type": "markdown",
   "id": "c64e6550-914d-4bdf-861b-2d4d1c85805d",
   "metadata": {},
   "source": [
    "<a name=\"4\"></a>\n",
    "## 4 - Feature Engineering e Elo Rating"
   ]
  },
  {
   "cell_type": "markdown",
   "id": "a3f7e193",
   "metadata": {},
   "source": [
    "Antes de iniciar modelos, devemos preparar os dados e extrair as informações importantes que serão usadas."
   ]
  },
  {
   "cell_type": "markdown",
   "id": "5d75f9dc-6153-4436-8a85-3ab098741c18",
   "metadata": {},
   "source": [
    "### Elo Rating"
   ]
  },
  {
   "cell_type": "markdown",
   "id": "70fdbae1",
   "metadata": {},
   "source": [
    "O elo é um sistema criado para medir a \"força\" de um time. Para tanto, atribui-se um score para cada time que aumenta ou diminui conforme ele ganha e perde partidas, respectivamente. O cálculo do elo foi baseado no seguinte artigo:\n",
    "\n",
    "https://fivethirtyeight.com/features/how-we-calculate-nba-elo-ratings/#:~:text=Here's%20the%20formula%3A%20Take%20the,and%20then%20divide%20by%2028"
   ]
  },
  {
   "cell_type": "code",
   "execution_count": null,
   "id": "4bc02d41-5531-4f60-be91-045ebd20ce70",
   "metadata": {},
   "outputs": [],
   "source": [
    "# Calcula as probabilidades de cada time em uma partida ganhar\n",
    "def win_probs(wTeam_elo, lTeam_elo, home_court_advantage, WLoc):\n",
    "    w = math.pow(10, wTeam_elo/400)\n",
    "    l = math.pow(10, lTeam_elo/400)\n",
    "    a = math.pow(10, home_court_advantage/400) \n",
    "    \n",
    "    if WLoc == 'H':\n",
    "        denom = l + a*w\n",
    "        wTeam_prob = a*w / denom\n",
    "        lTeam_prob = l / denom   \n",
    "        \n",
    "    elif WLoc == 'A':\n",
    "        denom = a*l + w\n",
    "        wTeam_prob = w / denom\n",
    "        lTeam_prob = a*l / denom   \n",
    "        \n",
    "    else:\n",
    "        denom = l + w\n",
    "        wTeam_prob = a / denom\n",
    "        lTeam_prob = l / denom \n",
    "        \n",
    "    return wTeam_prob, lTeam_prob"
   ]
  },
  {
   "cell_type": "code",
   "execution_count": null,
   "id": "a1579081-49e8-4ec0-83cd-61245b337701",
   "metadata": {},
   "outputs": [],
   "source": [
    "# Determina o quão forte será a mudança de elo dado resultado de uma partida\n",
    "def elo_k(MOV, elo_diff):\n",
    "    k = 20\n",
    "    if MOV>0:\n",
    "        multiplier=(MOV+3)**(0.8)/(7.5+0.006*(elo_diff))\n",
    "    else:\n",
    "        multiplier=(-MOV+3)**(0.8)/(7.5+0.006*(-elo_diff))\n",
    "    return k*multiplier"
   ]
  },
  {
   "cell_type": "code",
   "execution_count": null,
   "id": "009f1d0e-8597-4bff-a504-c5efe92637c1",
   "metadata": {},
   "outputs": [],
   "source": [
    "# Atualiza o elo de cada time conforme o resultado de uma partida\n",
    "def update_elo(game, df_eloActual):\n",
    "    home_court_advantage = 100\n",
    "    wTeam = game['WTeamID']\n",
    "    wTeam_elo = int(df_eloActual[df_eloActual['TeamID'] == wTeam][str(game['Season'])])\n",
    "    wTeam_score = game['WScore']\n",
    "    #print(wTeam, wTeam_elo, wTeam_score)\n",
    "    \n",
    "    lTeam = game['LTeamID']\n",
    "    lTeam_elo = int(df_eloActual[df_eloActual['TeamID'] == lTeam][str(game['Season'])])\n",
    "    lTeam_score = game['LScore']\n",
    "    #print(lTeam, lTeam_elo, lTeam_score)\n",
    "        \n",
    "    wTeam_prob, lTeam_prob = win_probs(wTeam_elo, lTeam_elo, home_court_advantage, game['WLoc'])\n",
    "    \n",
    "    k = elo_k(wTeam_score - lTeam_score, wTeam_elo - lTeam_elo)\n",
    "        \n",
    "    updated_wTeam_elo = wTeam_elo + k * (1 - wTeam_prob) \n",
    "    updated_lTeam_elo = lTeam_elo + k * (0 - lTeam_prob)\n",
    "    \n",
    "    return updated_wTeam_elo, updated_lTeam_elo"
   ]
  },
  {
   "cell_type": "code",
   "execution_count": null,
   "id": "5c422df3-47a4-4943-bf86-800c256bff0b",
   "metadata": {},
   "outputs": [],
   "source": [
    "# 1\n",
    "df_RegularSeason = RegularSeasonCompactResults.copy() # Dataframe que será adicinado o elo rating\n",
    "\n",
    "# 2 \n",
    "df_NCAATourney = NCAATourneyCompactResults.copy() # Dataframe que será adicinado o elo rating"
   ]
  },
  {
   "cell_type": "code",
   "execution_count": null,
   "id": "23e02d9e-5bca-4996-8d83-2d005663471c",
   "metadata": {},
   "outputs": [],
   "source": [
    "df_elo = df_teams.copy().drop(columns=['TeamName', 'FirstD1Season', 'LastD1Season'])\n",
    "\n",
    "for season in df_NCAATourney['Season'].unique():\n",
    "\n",
    "  if season == 1985:\n",
    "    df_elo[str(season)] = 1500\n",
    "  else:\n",
    "    df_elo[str(season)] = list(df_elo[str(season - 1)])\n",
    "\n",
    "  #1 - Calcular o Elo Rating na Regular Season\n",
    "  for index, row in df_RegularSeason[df_RegularSeason['Season'] == season].iterrows():\n",
    "    updated_wTeam_elo, updated_lTeam_elo = update_elo(row, df_elo)\n",
    "\n",
    "    #wTeam\n",
    "    idx = df_elo[df_elo['TeamID'] == row['WTeamID']].index[0]\n",
    "    df_elo.loc[idx, str(season)] = updated_wTeam_elo\n",
    "    df_RegularSeason.loc[index, 'WElo'] = updated_wTeam_elo\n",
    "    \n",
    "    #lTeam\n",
    "    idx = df_elo[df_elo['TeamID'] == row['LTeamID']].index[0]\n",
    "    df_elo.loc[idx, str(season)] = updated_lTeam_elo\n",
    "    df_RegularSeason.loc[index, 'LElo'] = updated_lTeam_elo \n",
    "\n",
    "  #2 - Calcular o Elo Rating no NCAA\n",
    "  for index, row in df_NCAATourney[df_NCAATourney['Season'] == season].iterrows():\n",
    "    updated_wTeam_elo, updated_lTeam_elo = update_elo(row, df_elo)\n",
    "\n",
    "    #wTeam\n",
    "    idx = df_elo[df_elo['TeamID'] == row['WTeamID']].index[0]\n",
    "    df_elo.loc[idx, str(season)] = updated_wTeam_elo\n",
    "    df_NCAATourney.loc[index, 'WElo'] = updated_wTeam_elo\n",
    "    \n",
    "    #lTeam\n",
    "    idx = df_elo[df_elo['TeamID'] == row['LTeamID']].index[0]\n",
    "    df_elo.loc[idx, str(season)] = updated_lTeam_elo\n",
    "    df_NCAATourney.loc[index, 'LElo'] = updated_lTeam_elo "
   ]
  },
  {
   "cell_type": "markdown",
   "id": "73ecaa4a",
   "metadata": {},
   "source": [
    "### Tabela final para modelo"
   ]
  },
  {
   "cell_type": "markdown",
   "id": "2ccf621b",
   "metadata": {},
   "source": [
    "Tendo o histórico de partidas e os elos associados aos times para cada determinado momento, é possível reduzir os dados a serem utilizados em uma tabela final."
   ]
  },
  {
   "cell_type": "code",
   "execution_count": null,
   "id": "d6708a4f-d419-4829-997d-d73157f31a84",
   "metadata": {},
   "outputs": [],
   "source": [
    "df_RegularSeason['Tourney'] = 'RS'\n",
    "df_NCAATourney['Tourney'] = 'NCAA'"
   ]
  },
  {
   "cell_type": "code",
   "execution_count": null,
   "id": "9a81f2b6",
   "metadata": {
    "scrolled": false
   },
   "outputs": [],
   "source": [
    "AllGames = pd.concat([df_RegularSeason ,df_NCAATourney])\n",
    "AllGames['TeamA'] = AllGames[[\"WTeamID\", \"LTeamID\"]].min(axis=1)\n",
    "AllGames['TeamB'] = AllGames[[\"WTeamID\", \"LTeamID\"]].max(axis=1)\n",
    "AllGames['Mandante'] = np.where(AllGames['WLoc'] == \"H\", AllGames['WTeamID'],\n",
    "                           np.where(AllGames['WLoc'] == \"A\", AllGames['LTeamID'], \"0\"))\n",
    "AllGames['TeamAWins'] = np.where(AllGames['WTeamID'] == AllGames['TeamA'], True, False)\n",
    "AllGames['EloA'] = np.where(AllGames['TeamA'] == AllGames['WTeamID'], AllGames['WElo'], AllGames['LElo'])\n",
    "AllGames['EloB'] = np.where(AllGames['TeamB'] == AllGames['LTeamID'], AllGames['LElo'], AllGames['WElo'])\n",
    "AllGames"
   ]
  },
  {
   "cell_type": "code",
   "execution_count": null,
   "id": "78471753",
   "metadata": {},
   "outputs": [],
   "source": [
    "#Cria csv ta tabela acima\n",
    "AllGames.to_csv(\"games_with_elo.csv\", index = False)"
   ]
  },
  {
   "cell_type": "code",
   "execution_count": null,
   "id": "b6692c3c",
   "metadata": {},
   "outputs": [],
   "source": [
    "AllGames = pd.read_csv(\"games_with_elo.csv\")"
   ]
  },
  {
   "cell_type": "code",
   "execution_count": null,
   "id": "f2e22b99",
   "metadata": {},
   "outputs": [],
   "source": [
    "#AllGames"
   ]
  },
  {
   "cell_type": "code",
   "execution_count": null,
   "id": "c6b1b55f",
   "metadata": {},
   "outputs": [],
   "source": [
    "df = pd.DataFrame()\n",
    "df['Season'] = AllGames['Season']\n",
    "df['TeamA'] = AllGames['TeamA']\n",
    "df['TeamB'] = AllGames['TeamB']\n",
    "df['Mandante'] = AllGames['Mandante']\n",
    "df['EloA'] = AllGames['EloA']\n",
    "df['EloB'] = AllGames['EloB']\n",
    "df['TeamAWins'] = AllGames['TeamAWins']\n",
    "df"
   ]
  },
  {
   "cell_type": "markdown",
   "id": "ba1c023e",
   "metadata": {},
   "source": [
    "---"
   ]
  },
  {
   "cell_type": "markdown",
   "id": "157a6e35",
   "metadata": {},
   "source": [
    "<a name=\"5\"></a>\n",
    "## 5 - Data Visualization"
   ]
  },
  {
   "cell_type": "markdown",
   "id": "98b59104",
   "metadata": {},
   "source": [
    "Para uma análise visual mais direta e inicial dos dados obtidos, será calculada a probabilidade de vitória de um time sobre outro time baseada no histórico de partidas que esses dois times já disputaram juntos. "
   ]
  },
  {
   "cell_type": "code",
   "execution_count": null,
   "id": "33e28851",
   "metadata": {},
   "outputs": [],
   "source": [
    "from matplotlib import pyplot as plt"
   ]
  },
  {
   "cell_type": "code",
   "execution_count": null,
   "id": "71088723",
   "metadata": {},
   "outputs": [],
   "source": [
    "visualizacao = df.loc[df['TeamAWins'] == True].groupby(['TeamA','TeamB'])['TeamAWins'].count() / df.groupby(['TeamA','TeamB'])['TeamAWins'].count()\n",
    "visualizacao = visualizacao.reset_index()\n",
    "visualizacao = visualizacao.fillna(0)\n",
    "visualizacao"
   ]
  },
  {
   "cell_type": "markdown",
   "id": "b65d3cc0",
   "metadata": {},
   "source": [
    "Da tabela acima, temos a probabilidade do time A ganhar do time B."
   ]
  },
  {
   "cell_type": "code",
   "execution_count": null,
   "id": "6d3924a4",
   "metadata": {},
   "outputs": [],
   "source": [
    "plt.scatter(visualizacao[\"TeamA\"], visualizacao[\"TeamB\"], c= visualizacao[\"TeamAWins\"], cmap=plt.cm.autumn, alpha=0.5, s = 1)\n",
    "plt.title(\"Probabilidade de vitória do time A contra time B\")\n",
    "plt.xlabel(\"Time A\")\n",
    "plt.ylabel(\"Time B\")\n",
    "plt.show()"
   ]
  },
  {
   "cell_type": "markdown",
   "id": "384c7037",
   "metadata": {},
   "source": [
    "Já o gráfico acima mostra as probabilidades dos times em A (eixo x), ganharem dos times em B (eixo y). Cores mais fortes significam maiores\n",
    "probabilidades de vitórias e cores mais fracas significam menores probabilidades."
   ]
  },
  {
   "cell_type": "markdown",
   "id": "518f2380",
   "metadata": {},
   "source": [
    "Removendo pontos \"seguros\" (com taxa de vitória ou derrota altas)"
   ]
  },
  {
   "cell_type": "code",
   "execution_count": null,
   "id": "e46ff245",
   "metadata": {},
   "outputs": [],
   "source": [
    "visualizacao_incertos = visualizacao.loc[(visualizacao.TeamAWins > 0.4) & (visualizacao.TeamAWins < 0.6)]\n",
    "visualizacao_incertos"
   ]
  },
  {
   "cell_type": "code",
   "execution_count": null,
   "id": "a640f8e9",
   "metadata": {},
   "outputs": [],
   "source": [
    "plt.scatter(visualizacao_incertos[\"TeamA\"], visualizacao_incertos[\"TeamB\"], c= visualizacao_incertos[\"TeamAWins\"], cmap=plt.cm.autumn, alpha=1, s = 1)\n",
    "plt.title(\"Probabilidade de vitória do time A contra time B (maiores incertezas)\")\n",
    "plt.xlabel(\"Time A\")\n",
    "plt.ylabel(\"Time B\")\n",
    "plt.show()"
   ]
  },
  {
   "cell_type": "markdown",
   "id": "5641919a",
   "metadata": {},
   "source": [
    "O gráfico acima mostra apenas os pontos em que há grande incerteza de resultado (probabilidade de vitória entre 40% e 60%). É possível observar que utilizando o método descrito para o cálculo das probabilidades, há muitos pontos incertos no gráfico. "
   ]
  },
  {
   "cell_type": "markdown",
   "id": "34f9783b",
   "metadata": {},
   "source": [
    "---"
   ]
  },
  {
   "cell_type": "markdown",
   "id": "d8c9d973",
   "metadata": {},
   "source": [
    "<a name=\"6\"></a>\n",
    "## 6 - Models"
   ]
  },
  {
   "cell_type": "markdown",
   "id": "834f6e75",
   "metadata": {},
   "source": [
    "### Previsão utilizando matriz de transição"
   ]
  },
  {
   "cell_type": "markdown",
   "id": "42cf1fa5",
   "metadata": {},
   "source": [
    "A primeira ideia desenvolvida seria utilizando justamente as probabilidades obtidas na seção anterior e criar uma matriz de transição entre os times presentes."
   ]
  },
  {
   "cell_type": "markdown",
   "id": "8119bfe1",
   "metadata": {},
   "source": [
    "No caso, surgiria um problema: nem todos os jogos possíveis entre todos os times já ocorreram na base de dados. Logo, nosso modelo não possuíria informação para alguns confrontos e, portanto, não seria capaz de estimar o resultado."
   ]
  },
  {
   "cell_type": "markdown",
   "id": "6fd7ba1f",
   "metadata": {},
   "source": [
    "Como solução, sería possível criar uma rede de todos os times em que as arestas seriam as probabilidades de um time ganhar de outro (sempre do menor ID para o maior). Assim, caso não exista histórico entre dois times, é possível calcular a probabilidade utilizando um caminho na rede."
   ]
  },
  {
   "cell_type": "markdown",
   "id": "36db8f51",
   "metadata": {},
   "source": [
    "#### Criando a rede"
   ]
  },
  {
   "cell_type": "code",
   "execution_count": null,
   "id": "8045a31c",
   "metadata": {},
   "outputs": [],
   "source": [
    "import networkx as nx\n",
    "\n",
    "G = nx.from_pandas_edgelist(visualizacao, source='TeamA', target='TeamB',\n",
    "                            edge_attr='TeamAWins') "
   ]
  },
  {
   "cell_type": "code",
   "execution_count": null,
   "id": "054589a4",
   "metadata": {},
   "outputs": [],
   "source": [
    "visualizacao_copy = visualizacao.copy()\n",
    "teams = pd.unique(visualizacao_copy[['TeamA', 'TeamB']].values.ravel('K'))\n",
    "n = len(teams)\n",
    "n"
   ]
  },
  {
   "cell_type": "code",
   "execution_count": null,
   "id": "b3aa1593",
   "metadata": {},
   "outputs": [],
   "source": [
    "len(df_teams)"
   ]
  },
  {
   "cell_type": "markdown",
   "id": "f1c1fb49",
   "metadata": {},
   "source": [
    "4 times não apareceram em nenhuma partida até 2014"
   ]
  },
  {
   "cell_type": "markdown",
   "id": "d122be6b",
   "metadata": {},
   "source": [
    "#### Matriz de transição"
   ]
  },
  {
   "cell_type": "code",
   "execution_count": null,
   "id": "43e5fd35",
   "metadata": {},
   "outputs": [],
   "source": [
    "matrix = np.zeros((n,n))"
   ]
  },
  {
   "cell_type": "code",
   "execution_count": null,
   "id": "5ae90c25",
   "metadata": {},
   "outputs": [],
   "source": [
    "trans_matrix = pd.DataFrame(matrix, columns = teams, index=teams)"
   ]
  },
  {
   "cell_type": "code",
   "execution_count": null,
   "id": "ff9efc41",
   "metadata": {},
   "outputs": [],
   "source": [
    "trans_matrix"
   ]
  },
  {
   "cell_type": "markdown",
   "id": "0e75d12a",
   "metadata": {},
   "source": [
    "No caso, será utilizado o menor caminho na rede, entre dois times, para calcular a probabilidade."
   ]
  },
  {
   "cell_type": "code",
   "execution_count": null,
   "id": "3cebb466",
   "metadata": {},
   "outputs": [],
   "source": [
    "#Todos os caminhos minimos possiveis entre possibilidades de jogos\n",
    "erros = 0\n",
    "i = 0\n",
    "for team in teams[:]:\n",
    "    for opponent in teams[i+1:]:\n",
    "        try:\n",
    "            probability = 1\n",
    "            path = nx.shortest_path(G, source=team, target=opponent)\n",
    "            for source, target in zip(path, path[1:]):\n",
    "                prob = G[source][target][\"TeamAWins\"]\n",
    "                if source < target:\n",
    "                    probability *= prob\n",
    "                else:\n",
    "                    probability *= (1 - prob)\n",
    "            trans_matrix.loc[trans_matrix.index == path[0], path[-1]] = prob\n",
    "        except:\n",
    "            erros += 1 \n",
    "    i += 1\n",
    "print(erros)"
   ]
  },
  {
   "cell_type": "code",
   "execution_count": null,
   "id": "a13521d7",
   "metadata": {},
   "outputs": [],
   "source": [
    "trans_matrix"
   ]
  },
  {
   "cell_type": "markdown",
   "id": "016f0da6",
   "metadata": {},
   "source": [
    "A visualização da rede pode ser feita rodando a célula abaixo (alterando os valores dos argumentos para melhor visualização)"
   ]
  },
  {
   "cell_type": "code",
   "execution_count": null,
   "id": "b2eb5306",
   "metadata": {},
   "outputs": [],
   "source": [
    "# widths = np.array([w for *_, w in G.edges.data('TeamAWins')])\n",
    "\n",
    "# pos = nx.spring_layout(G, seed=7)  # positions for all nodes - seed for reproducibi\n",
    "\n",
    "# # nodes\n",
    "# nx.draw_networkx_nodes(G, pos)\n",
    "\n",
    "# # edges\n",
    "# nx.draw_networkx_edges(G, pos, width=widths)  \n",
    "\n",
    "# # labels\n",
    "# nx.draw_networkx_labels(G, pos, font_family=\"sans-serif\")\n",
    "\n",
    "# ax = plt.gca()\n",
    "# ax.margins(0.08)\n",
    "# plt.axis(\"off\")\n",
    "# plt.tight_layout()"
   ]
  },
  {
   "cell_type": "markdown",
   "id": "df934fd4",
   "metadata": {},
   "source": [
    "### Previsão utilizando outros modelos e elo rating"
   ]
  },
  {
   "cell_type": "markdown",
   "id": "fd8a1b62",
   "metadata": {},
   "source": [
    "Além do modelo utilizando matriz de transição, podemos utilizar de modelos mais clássicos de Machine Learning e da variável de Elo Rating calculada nas sessões anteriores."
   ]
  },
  {
   "cell_type": "markdown",
   "id": "325bf6a4",
   "metadata": {},
   "source": [
    "Será necessário separar entre dados de treino e teste"
   ]
  },
  {
   "cell_type": "code",
   "execution_count": null,
   "id": "7a711f5e",
   "metadata": {},
   "outputs": [],
   "source": [
    "df1 = df.drop(columns=['Mandante', \"Season\"])\n",
    "df1[['TeamA','TeamB']] = df[['TeamA','TeamB']].astype(str)"
   ]
  },
  {
   "cell_type": "code",
   "execution_count": null,
   "id": "8c3dc4ca",
   "metadata": {},
   "outputs": [],
   "source": [
    "from sklearn.linear_model import LogisticRegression\n",
    "RANDOM_SEED = 42\n",
    "train_set, test_set = train_test_split(\n",
    "    df1,\n",
    "    test_size=0.2,\n",
    "    random_state=RANDOM_SEED,\n",
    ")\n",
    "\n",
    "X_train = train_set.drop(columns=['TeamAWins'])\n",
    "y_train = train_set['TeamAWins']\n",
    "\n",
    "X_test = test_set.drop(columns=['TeamAWins'])\n",
    "y_test = test_set['TeamAWins']"
   ]
  },
  {
   "cell_type": "markdown",
   "id": "b3d913d6",
   "metadata": {},
   "source": [
    "#### Logistic regression"
   ]
  },
  {
   "cell_type": "markdown",
   "id": "042c4519",
   "metadata": {},
   "source": [
    "Como queremos classificar se o time A ganha do time B, é possíve utilizar um modelo de regressão logística (classificação) para prever os resultados."
   ]
  },
  {
   "cell_type": "code",
   "execution_count": null,
   "id": "de6b83b2",
   "metadata": {},
   "outputs": [],
   "source": [
    "rl = LogisticRegression()\n",
    "rl.fit(X_train, y_train)\n",
    "y_pred_rl = rl.predict(X_test)"
   ]
  },
  {
   "cell_type": "code",
   "execution_count": null,
   "id": "9933b518",
   "metadata": {},
   "outputs": [],
   "source": [
    "CM_RL = confusion_matrix(y_test, y_pred_rl)\n",
    "print(CM_RL, \"\\n\")\n",
    "\n",
    "accuracy = (CM_RL[0, 0] + CM_RL[1, 1]) / CM_RL.sum()\n",
    "print(f\"Accuracy:    {accuracy:.4f}\")\n",
    "\n",
    "sensitivity = CM_RL[1, 1] / (CM_RL[1, 0] + CM_RL[1, 1])\n",
    "print(f\"Sensitivity: {sensitivity:.4f}\")\n",
    "\n",
    "specificity = CM_RL[0, 1] / (CM_RL[0, 0] + CM_RL[0, 1])\n",
    "print(f\"Specificity: {specificity:.4f}\")"
   ]
  },
  {
   "cell_type": "markdown",
   "id": "71f6f3c6",
   "metadata": {},
   "source": [
    "#### Random Forest"
   ]
  },
  {
   "cell_type": "markdown",
   "id": "c1d792df",
   "metadata": {},
   "source": [
    "Outro modelo que pode ser utilizado é o de Random Forest."
   ]
  },
  {
   "cell_type": "code",
   "execution_count": null,
   "id": "7ef70921",
   "metadata": {},
   "outputs": [],
   "source": [
    "rf = RandomForestClassifier(random_state = 42)\n",
    "rf.fit(X_train, y_train)\n",
    "y_pred_rf = rf.predict(X_test)"
   ]
  },
  {
   "cell_type": "code",
   "execution_count": null,
   "id": "0e44f8b0",
   "metadata": {},
   "outputs": [],
   "source": [
    "CM_RF = confusion_matrix(y_test, y_pred_rf)\n",
    "print(CM_RF, \"\\n\")\n",
    "\n",
    "accuracy = (CM_RF[0, 0] + CM_RF[1, 1]) / CM_RF.sum()\n",
    "print(f\"Accuracy:    {accuracy:.4f}\")\n",
    "\n",
    "sensitivity = CM_RF[1, 1] / (CM_RF[1, 0] + CM_RF[1, 1])\n",
    "print(f\"Sensitivity: {sensitivity:.4f}\")\n",
    "\n",
    "specificity = CM_RF[0, 1] / (CM_RF[0, 0] + CM_RF[0, 1])\n",
    "print(f\"Specificity: {specificity:.4f}\")"
   ]
  },
  {
   "cell_type": "markdown",
   "id": "0eba6c1d",
   "metadata": {},
   "source": [
    "#### Decision Tree"
   ]
  },
  {
   "cell_type": "markdown",
   "id": "1ff16795",
   "metadata": {},
   "source": [
    "Por fim, árvores de decisão também podem ser utilizadas em problemas de classificação."
   ]
  },
  {
   "cell_type": "code",
   "execution_count": null,
   "id": "4268fe93",
   "metadata": {},
   "outputs": [],
   "source": [
    "dt = tree.DecisionTreeClassifier(random_state = 42)\n",
    "dt.fit(X_train, y_train)\n",
    "y_pred_dt = dt.predict(X_test)"
   ]
  },
  {
   "cell_type": "code",
   "execution_count": null,
   "id": "72f81741",
   "metadata": {},
   "outputs": [],
   "source": [
    "CM_DT = confusion_matrix(y_test, y_pred_dt)\n",
    "print(CM_DT, \"\\n\")\n",
    "\n",
    "accuracy = (CM_DT[0, 0] + CM_DT[1, 1]) / CM_DT.sum()\n",
    "print(f\"Accuracy:    {accuracy:.4f}\")\n",
    "\n",
    "sensitivity = CM_DT[1, 1] / (CM_DT[1, 0] + CM_DT[1, 1])\n",
    "print(f\"Sensitivity: {sensitivity:.4f}\")\n",
    "\n",
    "specificity = CM_DT[0, 1] / (CM_DT[0, 0] + CM_DT[0, 1])\n",
    "print(f\"Specificity: {specificity:.4f}\")"
   ]
  },
  {
   "cell_type": "markdown",
   "id": "54355b7f",
   "metadata": {},
   "source": [
    "### Machine learning com dados de mandante"
   ]
  },
  {
   "cell_type": "markdown",
   "id": "3e5ed12b",
   "metadata": {},
   "source": [
    "Os modelos acima utilizaram apenas da variável de elo rating para determinar a probabilidade de vitória. Pelos dados fornecidos, também é possível utilizar do fato do time estar jogando em casa ou não para auxiliar na previsão do modelo. A variável está na coluna de \"Mandante\"."
   ]
  },
  {
   "cell_type": "code",
   "execution_count": null,
   "id": "7e246d8d",
   "metadata": {},
   "outputs": [],
   "source": [
    "df2 = df.drop(columns=[\"Season\"])\n",
    "df2[['TeamA','TeamB',\"Mandante\"]] = df[['TeamA','TeamB',\"Mandante\"]].astype(str)\n",
    "df2"
   ]
  },
  {
   "cell_type": "code",
   "execution_count": null,
   "id": "4fbaa0a5",
   "metadata": {},
   "outputs": [],
   "source": [
    "train_setM, test_setM = train_test_split(\n",
    "    df2,\n",
    "    test_size=0.2,\n",
    "    random_state=RANDOM_SEED,\n",
    ")\n",
    "\n",
    "X_trainM = train_setM.drop(columns=['TeamAWins'])\n",
    "y_trainM = train_setM['TeamAWins']\n",
    "\n",
    "X_testM = test_setM.drop(columns=['TeamAWins'])\n",
    "y_testM = test_setM['TeamAWins']"
   ]
  },
  {
   "cell_type": "code",
   "execution_count": null,
   "id": "cda47a88",
   "metadata": {},
   "outputs": [],
   "source": [
    "X_trainM"
   ]
  },
  {
   "cell_type": "markdown",
   "id": "a5465113",
   "metadata": {},
   "source": [
    "#### Regressão Logística"
   ]
  },
  {
   "cell_type": "code",
   "execution_count": null,
   "id": "d52c93f6",
   "metadata": {},
   "outputs": [],
   "source": [
    "rlM = LogisticRegression()\n",
    "rlM.fit(X_trainM, y_trainM)\n",
    "y_pred_rlM = rlM.predict(X_testM)\n",
    "\n",
    "CM_RLM = confusion_matrix(y_testM, y_pred_rlM)\n",
    "print(CM_RLM, \"\\n\")\n",
    "\n",
    "accuracy = (CM_RLM[0, 0] + CM_RLM[1, 1]) / CM_RLM.sum()\n",
    "print(f\"Accuracy:    {accuracy:.4f}\")\n",
    "\n",
    "sensitivity = CM_RLM[1, 1] / (CM_RLM[1, 0] + CM_RLM[1, 1])\n",
    "print(f\"Sensitivity: {sensitivity:.4f}\")\n",
    "\n",
    "specificity = CM_RLM[0, 1] / (CM_RLM[0, 0] + CM_RLM[0, 1])\n",
    "print(f\"Specificity: {specificity:.4f}\")"
   ]
  },
  {
   "cell_type": "markdown",
   "id": "4b690997",
   "metadata": {},
   "source": [
    "#### Random Forest"
   ]
  },
  {
   "cell_type": "code",
   "execution_count": null,
   "id": "11354ec5",
   "metadata": {},
   "outputs": [],
   "source": [
    "rfM = RandomForestClassifier(random_state = 42)\n",
    "rfM.fit(X_trainM, y_trainM)\n",
    "y_pred_rfM = rfM.predict(X_testM)\n",
    "\n",
    "CM_RFM = confusion_matrix(y_testM, y_pred_rfM)\n",
    "print(CM_RFM, \"\\n\")\n",
    "\n",
    "accuracy = (CM_RFM[0, 0] + CM_RFM[1, 1]) / CM_RFM.sum()\n",
    "print(f\"Accuracy:    {accuracy:.4f}\")\n",
    "\n",
    "sensitivity = CM_RFM[1, 1] / (CM_RFM[1, 0] + CM_RFM[1, 1])\n",
    "print(f\"Sensitivity: {sensitivity:.4f}\")\n",
    "\n",
    "specificity = CM_RFM[0, 1] / (CM_RFM[0, 0] + CM_RFM[0, 1])\n",
    "print(f\"Specificity: {specificity:.4f}\")"
   ]
  },
  {
   "cell_type": "markdown",
   "id": "ef51f053",
   "metadata": {},
   "source": [
    "#### Decision Tree"
   ]
  },
  {
   "cell_type": "code",
   "execution_count": null,
   "id": "5fbe75cf",
   "metadata": {},
   "outputs": [],
   "source": [
    "dtM = tree.DecisionTreeClassifier(random_state = 42)\n",
    "dtM.fit(X_trainM, y_trainM)\n",
    "y_pred_dtM = dtM.predict(X_testM)\n",
    "\n",
    "CM_DTM = confusion_matrix(y_testM, y_pred_dtM)\n",
    "print(CM_DTM, \"\\n\")\n",
    "\n",
    "accuracy = (CM_DTM[0, 0] + CM_DTM[1, 1]) / CM_DTM.sum()\n",
    "print(f\"Accuracy:    {accuracy:.4f}\")\n",
    "\n",
    "sensitivity = CM_DTM[1, 1] / (CM_DTM[1, 0] + CM_DTM[1, 1])\n",
    "print(f\"Sensitivity: {sensitivity:.4f}\")\n",
    "\n",
    "specificity = CM_DTM[0, 1] / (CM_DTM[0, 0] + CM_DTM[0, 1])\n",
    "print(f\"Specificity: {specificity:.4f}\")"
   ]
  },
  {
   "cell_type": "markdown",
   "id": "2ffb7b8d",
   "metadata": {},
   "source": [
    "---"
   ]
  },
  {
   "cell_type": "markdown",
   "id": "f51f6578",
   "metadata": {},
   "source": [
    "<a name=\"7\"></a>\n",
    "## 7 - Resultados"
   ]
  },
  {
   "cell_type": "markdown",
   "id": "28aae8d8",
   "metadata": {},
   "source": [
    "### Modelos com elo rating"
   ]
  },
  {
   "cell_type": "markdown",
   "id": "5539fef4",
   "metadata": {},
   "source": [
    "Utilizando a variável de elo rating e dado de mandante, obtemos a seguinte tabela com as performances de cada modelo"
   ]
  },
  {
   "attachments": {
    "Resultados.png": {
     "image/png": "[encoded data removed]"
    }
   },
   "cell_type": "markdown",
   "id": "f37fc15c",
   "metadata": {},
   "source": [
    "![Resultados.png](attachment:Resultados.png)"
   ]
  },
  {
   "cell_type": "markdown",
   "id": "f96ec2ad",
   "metadata": {},
   "source": [
    "As curvas ROC para cada modelo da tabela acima também podem ser obtidas:"
   ]
  },
  {
   "cell_type": "code",
   "execution_count": null,
   "id": "15ad3534",
   "metadata": {},
   "outputs": [],
   "source": [
    "y_pred_prob_rl = rl.predict_proba(X_test)\n",
    "y_pred_prob_rl = y_pred_prob_rl[:, 1]\n",
    "\n",
    "y_pred_prob_rf = rf.predict_proba(X_test)\n",
    "y_pred_prob_rf = y_pred_prob_rf[:, 1]\n",
    "\n",
    "y_pred_prob_dt = dt.predict_proba(X_test)\n",
    "y_pred_prob_dt = y_pred_prob_dt[:, 1]\n",
    "\n",
    "\n",
    "y_pred_prob_rlM = rlM.predict_proba(X_testM)\n",
    "y_pred_prob_rlM = y_pred_prob_rlM[:, 1]\n",
    "\n",
    "y_pred_prob_rfM = rfM.predict_proba(X_testM)\n",
    "y_pred_prob_rfM = y_pred_prob_rfM[:, 1]\n",
    "\n",
    "y_pred_prob_dtM = dtM.predict_proba(X_testM)\n",
    "y_pred_prob_dtM = y_pred_prob_dtM[:, 1]"
   ]
  },
  {
   "cell_type": "code",
   "execution_count": null,
   "id": "541bbd60",
   "metadata": {},
   "outputs": [],
   "source": [
    "fpr_rl, tpr_rl, thresholds_rl = roc_curve(y_test, y_pred_prob_rl)\n",
    "print(f\"AUC score regressão logística:    {roc_auc_score(y_test, y_pred_prob_rl):.4f}\")\n",
    "\n",
    "fpr_rf, tpr_rf, thresholds_rf = roc_curve(y_test, y_pred_prob_rf)\n",
    "print(f\"AUC score random forest:    {roc_auc_score(y_test, y_pred_prob_rf):.4f}\")\n",
    "\n",
    "fpr_dt, tpr_dt, thresholds_dt = roc_curve(y_test, y_pred_prob_dt)\n",
    "print(f\"AUC score decision tree:    {roc_auc_score(y_test, y_pred_prob_dt):.4f}\")\n",
    "\n",
    "\n",
    "fpr_rlM, tpr_rlM, thresholds_rlM = roc_curve(y_testM, y_pred_prob_rlM)\n",
    "print(f\"AUC score regressão logística com mandante:    {roc_auc_score(y_testM, y_pred_prob_rlM):.4f}\")\n",
    "\n",
    "fpr_rfM, tpr_rfM, thresholds_rfM = roc_curve(y_testM, y_pred_prob_rfM)\n",
    "print(f\"AUC score random forest com mandante:    {roc_auc_score(y_testM, y_pred_prob_rfM):.4f}\")\n",
    "\n",
    "fpr_dtM, tpr_dtM, thresholds_dtM = roc_curve(y_testM, y_pred_prob_dtM)\n",
    "print(f\"AUC score decision tree com mandante:    {roc_auc_score(y_testM, y_pred_prob_dtM):.4f}\")"
   ]
  },
  {
   "cell_type": "code",
   "execution_count": null,
   "id": "21f62be2",
   "metadata": {},
   "outputs": [],
   "source": [
    "(pd.concat([pd.DataFrame(dict(fpr = fpr_rl, tpr = tpr_rl, model = \"Logistic regression\")),\n",
    "            pd.DataFrame(dict(fpr = fpr_dt, tpr = tpr_dt, model = \"Classification tree\")), \n",
    "            pd.DataFrame(dict(fpr = fpr_rf,   tpr = tpr_rf,   model = \"Random Forest\")),\n",
    "            pd.DataFrame(dict(fpr = fpr_rlM, tpr = tpr_rlM, model = \"Logistic regression com Mandante\")),\n",
    "            pd.DataFrame(dict(fpr = fpr_dtM, tpr = tpr_dtM, model = \"Classification tree com Mandante\")),\n",
    "            pd.DataFrame(dict(fpr = fpr_rfM,   tpr = tpr_rfM,   model = \"Random Forest com Mandante\"))])\n",
    "   .pipe(lambda _: ggplot(_, aes(x = \"fpr\", y = \"tpr\", color = \"model\")) +\n",
    "                       geom_line(size = 1) + \n",
    "                       geom_abline(linetype = \"dashed\") +\n",
    "                       labs(x = \"FPR (1 -  Specificity)\", y = \"TPR (Sensitivity)\",\n",
    "                            title = \"ROC Curve\") +\n",
    "                       theme(legend_title = element_blank())))"
   ]
  },
  {
   "cell_type": "markdown",
   "id": "cb41dd30",
   "metadata": {},
   "source": [
    "---"
   ]
  },
  {
   "cell_type": "markdown",
   "id": "79608bde",
   "metadata": {},
   "source": [
    "### Utilizando a matriz de transição"
   ]
  },
  {
   "cell_type": "markdown",
   "id": "f3591d1d",
   "metadata": {},
   "source": [
    "Para medir o desempenho utilizando a matriz de transição será necessário utilizar novos dados que não foram utilizados para o \"treinamento\" (cálculo das probabilidades) do modelo."
   ]
  },
  {
   "cell_type": "markdown",
   "id": "43b24487",
   "metadata": {},
   "source": [
    "Serão utilizados os jogos de 2014 teste da matriz de transição"
   ]
  },
  {
   "cell_type": "code",
   "execution_count": null,
   "id": "0b44287e",
   "metadata": {},
   "outputs": [],
   "source": [
    "RegularSeasonCompactResults = pd.read_csv(\"RegularSeasonCompactResults.csv\")"
   ]
  },
  {
   "cell_type": "code",
   "execution_count": null,
   "id": "2f2f409a",
   "metadata": {},
   "outputs": [],
   "source": [
    "RegularSeasonCompactResults_2014 = RegularSeasonCompactResults[RegularSeasonCompactResults['Season'] == 2014]\n",
    "RegularSeasonCompactResults_2014"
   ]
  },
  {
   "cell_type": "code",
   "execution_count": null,
   "id": "93b7c9c3",
   "metadata": {},
   "outputs": [],
   "source": [
    "RegularSeasonCompactResults_2014['TeamA'] = RegularSeasonCompactResults_2014[[\"WTeamID\", \"LTeamID\"]].min(axis=1)\n",
    "RegularSeasonCompactResults_2014['TeamB'] = RegularSeasonCompactResults_2014[[\"WTeamID\", \"LTeamID\"]].max(axis=1)\n",
    "RegularSeasonCompactResults_2014['TeamAWins'] = np.where(RegularSeasonCompactResults_2014['WTeamID'] == RegularSeasonCompactResults_2014['TeamA'], True, False)\n",
    "RegularSeasonCompactResults_2014 = RegularSeasonCompactResults_2014.drop(columns=['DayNum', \"Season\", \"WScore\", \"LTeamID\", \"LScore\", \"WLoc\", \"NumOT\", \"WTeamID\"])\n",
    "RegularSeasonCompactResults_2014['pred'] = False\n",
    "RegularSeasonCompactResults_2014"
   ]
  },
  {
   "cell_type": "markdown",
   "id": "9ef13b0c",
   "metadata": {},
   "source": [
    "Acima temos a tabela coms os jogos de 2014 e as colunas **TeamAWins** (indica se o time A ganhou) e **pred** (previsão do modelo). **pred** é inicializada com False em todas as linhas"
   ]
  },
  {
   "cell_type": "markdown",
   "id": "0dc5727b",
   "metadata": {},
   "source": [
    "Utilizando a matriz para deteriminar as probabilidades:"
   ]
  },
  {
   "cell_type": "code",
   "execution_count": null,
   "id": "7f2c38aa",
   "metadata": {},
   "outputs": [],
   "source": [
    "for index, row in RegularSeasonCompactResults_2014.iterrows():\n",
    "    try:\n",
    "        val =  trans_matrix.loc[trans_matrix.index == int(row['TeamA']), int(row['TeamB'])].values[0] > 0.5\n",
    "    except:\n",
    "        val = False         \n",
    "    RegularSeasonCompactResults_2014.loc[(RegularSeasonCompactResults_2014['TeamA'] == row['TeamA'])&(RegularSeasonCompactResults_2014['TeamB'] == RegularSeasonCompactResults_2014['TeamB']), 'pred'] = val"
   ]
  },
  {
   "cell_type": "code",
   "execution_count": null,
   "id": "717ef0d0",
   "metadata": {},
   "outputs": [],
   "source": [
    "RegularSeasonCompactResults_2014"
   ]
  },
  {
   "cell_type": "markdown",
   "id": "6af0f63a",
   "metadata": {},
   "source": [
    "Desempenho da matriz:"
   ]
  },
  {
   "cell_type": "code",
   "execution_count": null,
   "id": "0d9ba800",
   "metadata": {},
   "outputs": [],
   "source": [
    "acertos = 0\n",
    "total = RegularSeasonCompactResults_2014.shape[0]\n",
    "for index, row in RegularSeasonCompactResults_2014.iterrows():\n",
    "    if row['TeamAWins'] == row['pred']:\n",
    "        acertos += 1\n",
    "acc = acertos / total\n",
    "acc"
   ]
  },
  {
   "cell_type": "markdown",
   "id": "b8585914",
   "metadata": {},
   "source": [
    "---"
   ]
  },
  {
   "cell_type": "markdown",
   "id": "c3cc776a",
   "metadata": {},
   "source": [
    "<a name=\"8\"></a>\n",
    "## 8 - Conclusão"
   ]
  },
  {
   "cell_type": "markdown",
   "id": "c7ad24a9",
   "metadata": {},
   "source": [
    "Para as previsões utilizando a matriz de transição, obtivemos um resultado ruim, com uma acurácia de aproximadamente 54%. Tal desempenho pode ter sido causado pelo fato de não possuirmos dados significativos o suficiente de todos os confrontos entre dois times. Ou seja, pelo fato de dois times possuírem poucos confrontos na base de dados, é difícil determinar a probabilidade de um time ganhar baseado nessa pouca quantidade de jogos jogados entre os dois. Além disso, a grande quantidade de incerteza, como visto nos gráficos de visualização, também podem contribuir para um desempenho ruim."
   ]
  },
  {
   "cell_type": "markdown",
   "id": "c4de995e",
   "metadata": {},
   "source": [
    "## Falar do desempenho dos outros modelos aqui!"
   ]
  },
  {
   "cell_type": "markdown",
   "id": "469b88a5",
   "metadata": {},
   "source": []
  }
 ],
 "metadata": {
  "kernelspec": {
   "display_name": "Python 3.7.11 ('base')",
   "language": "python",
   "name": "python3"
  },
  "language_info": {
   "codemirror_mode": {
    "name": "ipython",
    "version": 3
   },
   "file_extension": ".py",
   "mimetype": "text/x-python",
   "name": "python",
   "nbconvert_exporter": "python",
   "pygments_lexer": "ipython3",
   "version": "3.7.11"
  },
  "vscode": {
   "interpreter": {
    "hash": "e9ce2dd4416f9f978792fd09602620adf87f44287733915ff5f924f311bc8339"
   }
  }
 },
 "nbformat": 4,
 "nbformat_minor": 5
}
